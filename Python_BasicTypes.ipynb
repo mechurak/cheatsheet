{
 "metadata": {
  "language_info": {
   "codemirror_mode": {
    "name": "ipython",
    "version": 3
   },
   "file_extension": ".py",
   "mimetype": "text/x-python",
   "name": "python",
   "nbconvert_exporter": "python",
   "pygments_lexer": "ipython3",
   "version": "3.7.7-final"
  },
  "orig_nbformat": 2,
  "kernelspec": {
   "name": "python3",
   "language": "python",
   "display_name": "Python 3"
  }
 },
 "nbformat": 4,
 "nbformat_minor": 2,
 "cells": [
  {
   "cell_type": "markdown",
   "metadata": {},
   "source": [
    "## Basic Types\n",
    "- bool, int, float, str, bytes\n",
    "- list, tuple, set, dict "
   ]
  },
  {
   "cell_type": "code",
   "execution_count": 8,
   "metadata": {
    "tags": []
   },
   "outputs": [
    {
     "name": "stdout",
     "output_type": "stream",
     "text": [
      "(Boolean) True <class 'bool'>\n",
      "(Integer) 5 <class 'int'>\n",
      "(Float) 5.0 <class 'float'>\n",
      "(String) 5 <class 'str'>\n",
      "(Bytes) b'AA00' <class 'bytes'>\n",
      "(List) [1, 2, 3] <class 'list'>\n",
      "(Tuple) (1, 2, 3) <class 'tuple'>\n",
      "(Set) {1, 2, 3} <class 'set'>\n",
      "(Dictionary) {1: 'first', 2: 'second'} <class 'dict'>\n"
     ]
    }
   ],
   "source": [
    "print(\"(Boolean)\", True, type(True))  # (Boolean) True <class 'bool'>\n",
    "print(\"(Integer)\", 5, type(5))  # (Integer) 5 <class 'int'>\n",
    "print(\"(Float)\", 5.0, type(5.0))  # (Float) 5.0 <class 'float'>\n",
    "print(\"(String)\", '5', type('5'))  # (String) 5 <class 'str'>\n",
    "print(\"(Bytes)\", b'AA00', type(b'AA00'))  # (Bytes) b'AA00' <class 'bytes'>\n",
    "\n",
    "temp_list = [1, 2, 3]\n",
    "print(\"(List)\", temp_list, type(temp_list))  # (List) [1, 2, 3] <class 'list'>\n",
    "temp_tuple = (1, 2, 3)  # immutable(수정 불가)\n",
    "print(\"(Tuple)\", temp_tuple, type(temp_tuple))  # (Tuple) (1, 2, 3) <class 'tuple'>\n",
    "temp_set = {1, 2, 3}  # 순서 없음\n",
    "print(\"(Set)\", temp_set, type(temp_set))  # (Set) {1, 2, 3} <class 'set'>\n",
    "temp_dict = {1: \"first\", 2: \"second\"}  # 순서 없음\n",
    "print(\"(Dictionary)\", temp_dict, type(temp_dict))  # (Dictionary) {1: 'first', 2: 'second'} <class 'dict'>"
   ]
  },
  {
   "cell_type": "markdown",
   "metadata": {},
   "source": [
    "## Basic Operators\n",
    "산술 연산, 논리 연산, 비트 연산"
   ]
  },
  {
   "cell_type": "code",
   "execution_count": 9,
   "metadata": {
    "tags": []
   },
   "outputs": [
    {
     "name": "stdout",
     "output_type": "stream",
     "text": [
      "\n",
      "[산술 연산]\n",
      "2.5\n",
      "2\n",
      "1\n",
      "25\n",
      "6\n",
      "\n",
      "[논리 연산]\n",
      "False\n",
      "True\n",
      "True\n",
      "\n",
      "[비트 연산]\n",
      "10 0b1010\n",
      "11 0b1011\n",
      "1 0b1\n",
      "-11 -0b1011\n",
      "20 0b10100\n",
      "5 0b101\n"
     ]
    }
   ],
   "source": [
    "print(\"\\n[산술 연산]\")\n",
    "x, y = 5, 2\n",
    "print(x / y)  # 2.5 (결과는 float)\n",
    "print(x // y)  # 2 (몫. 나눗셈 결과보다 작은 정수)\n",
    "print(x % y)  # 1 (나머지)\n",
    "print(x ** y)  # 25 (거듭제곱)\n",
    "x += 1\n",
    "print(x)  # 6 (\"++\" 연산자는 지원하지 않음)\n",
    "\n",
    "\n",
    "print(\"\\n[논리 연산]\")\n",
    "a, b = True, False\n",
    "print(a and b)  # False\n",
    "print(a or b)  # True\n",
    "print(not b)  # True\n",
    "\n",
    "print(\"\\n[비트 연산]\")  # bin(): 숫자의 2진수 표기(str)를 리턴\n",
    "c, d = 0b1010, 0b1011  # 10, 11\n",
    "print(c&d, bin(c&d))  # 10 0b1010\n",
    "print(c|d, bin(c|d))  # 11 0b1011\n",
    "print(c^d, bin(c^d))  # 1 0b1\n",
    "print(~c, bin(~c))  # -11 -0b1011\n",
    "print(c << 1, bin(c << 1))  # 20 0b10100\n",
    "print(c >> 1, bin(c >> 1))  # 5 0b101"
   ]
  }
 ]
}