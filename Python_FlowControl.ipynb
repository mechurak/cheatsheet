{
 "cells": [
  {
   "cell_type": "markdown",
   "metadata": {
    "collapsed": true,
    "pycharm": {
     "name": "#%% md\n"
    }
   },
   "source": [
    "## if Statement\n",
    "조건문, 삼항 연산자, False 로 판단하는 경우"
   ]
  },
  {
   "cell_type": "code",
   "execution_count": 33,
   "outputs": [
    {
     "name": "stdout",
     "output_type": "stream",
     "text": [
      "(if) amazing\n",
      "(삼항 연산자) 4 unknown\n",
      "(condition check) failed\n"
     ]
    }
   ],
   "source": [
    "# if - elif - else\n",
    "a = 95\n",
    "if a >= 90:\n",
    "    print('(if) amazing')  # (if) amazing\n",
    "elif a >= 80:\n",
    "    print('(elif) great')\n",
    "else:\n",
    "    print('(else) good job')\n",
    "\n",
    "# 삼항 연산자: () if () else ()\n",
    "temp_dic = {1:\"first\", 2:\"second\"}\n",
    "key = 4\n",
    "value = temp_dic[key] if key in temp_dic else 'unknown'\n",
    "print('(삼항 연산자)', key, value)  # (삼항 연산자) 4 unknown\n",
    "\n",
    "# 비어있는 container, None, 0 은 False 로 판단\n",
    "temp_list = []\n",
    "temp_object = None\n",
    "temp_int = 0\n",
    "temp_float = 0.0\n",
    "if temp_list or temp_object or temp_int or temp_float:\n",
    "    print('(condition check) succeeded')\n",
    "else:\n",
    "    print('(condition check) failed')  # (condition check) failed"
   ],
   "metadata": {
    "collapsed": false,
    "pycharm": {
     "name": "#%%\n"
    }
   }
  },
  {
   "cell_type": "markdown",
   "source": [
    "## for Loop"
   ],
   "metadata": {
    "collapsed": false
   }
  },
  {
   "cell_type": "code",
   "execution_count": 39,
   "outputs": [
    {
     "name": "stdout",
     "output_type": "stream",
     "text": [
      "[List 순회]\n",
      "9\n",
      "36\n",
      "4\n",
      "[List 순회 (with index)]\n",
      "0 3\n",
      "1 6\n",
      "2 2\n",
      "\n",
      "[Dictionary 순회]\n",
      "1 first\n",
      "2 second\n",
      "\n",
      "[range(stop)]\n",
      "0\n",
      "1\n",
      "2\n",
      "\n",
      "[range(start, stop, step_size)]\n",
      "0\n",
      "3\n",
      "6\n",
      "9\n"
     ]
    }
   ],
   "source": [
    "print(\"[List 순회]\")\n",
    "temp_list = [3, 6, 2]\n",
    "for v in temp_list:\n",
    "    print(v * v)  # 9, 36, 4\n",
    "\n",
    "print(\"[List 순회 (with index)]\")\n",
    "temp_list = [3, 6, 2]\n",
    "for i, v in enumerate(temp_list):\n",
    "    print(i, v)\n",
    "\n",
    "print(\"\\n[Dictionary 순회]\")\n",
    "temp_dic = {1: 'first', 2: 'second'}\n",
    "for k, v in temp_dic.items():\n",
    "    print(k, v)\n",
    "\n",
    "print(\"\\n[range(stop)]\")\n",
    "for i in range(3):  # 3(stop) 은 미포함\n",
    "    print(i) # 0, 1, 2\n",
    "\n",
    "print(\"\\n[range(start, stop, step_size)]\")\n",
    "for i in range(0, 10, 3):\n",
    "    print(i)  # 0, 3, 6, 9"
   ],
   "metadata": {
    "collapsed": false,
    "pycharm": {
     "name": "#%%\n"
    }
   }
  },
  {
   "cell_type": "markdown",
   "source": [
    "## while Statement"
   ],
   "metadata": {
    "collapsed": false
   }
  },
  {
   "cell_type": "code",
   "execution_count": 37,
   "outputs": [
    {
     "name": "stdout",
     "output_type": "stream",
     "text": [
      "x:  5\n",
      "x:  7\n",
      "x:  9\n"
     ]
    }
   ],
   "source": [
    "x = 5\n",
    "while x < 10:\n",
    "    print('x: ', x)  # 5, 7, 9\n",
    "    x = x + 2\n"
   ],
   "metadata": {
    "collapsed": false,
    "pycharm": {
     "name": "#%%\n"
    }
   }
  }
 ],
 "metadata": {
  "kernelspec": {
   "display_name": "Python 3",
   "language": "python",
   "name": "python3"
  },
  "language_info": {
   "codemirror_mode": {
    "name": "ipython",
    "version": 2
   },
   "file_extension": ".py",
   "mimetype": "text/x-python",
   "name": "python",
   "nbconvert_exporter": "python",
   "pygments_lexer": "ipython2",
   "version": "2.7.6"
  }
 },
 "nbformat": 4,
 "nbformat_minor": 0
}